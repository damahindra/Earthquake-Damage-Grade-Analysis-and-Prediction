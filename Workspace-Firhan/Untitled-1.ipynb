{
 "cells": [
  {
   "cell_type": "code",
   "execution_count": 3,
   "metadata": {},
   "outputs": [],
   "source": [
    "li = input().split(',')"
   ]
  },
  {
   "cell_type": "code",
   "execution_count": 4,
   "metadata": {},
   "outputs": [
    {
     "name": "stdout",
     "output_type": "stream",
     "text": [
      "Omicron sentiment analysis\n",
      " sentiment analisis\n",
      " https://github.com/SulthanAbiyyu/Omicron-Sentiment-Analysis-Indonesia ShortcutML\n",
      " tools ML\n",
      " https://github.com/SulthanAbiyyu/ShortcutML Levenshtein Typo Detector\n",
      " Tugas akhir ASD\n",
      " https://github.com/SulthanAbiyyu/levenshtein-typo-detector COMPFEST DSA 2022\n",
      " DS Academy (ga lolos)\n",
      " https://github.com/SulthanAbiyyu/compfest-dsa-academy-2022 Image Auto Labeling\n",
      " zero shot image labeling\n",
      " https://github.com/SulthanAbiyyu/ImageAutoLabeling N Section Video Interpolation\n",
      " Interpolasi FPS tanpa prediksi frame (sementara ga dilanjut)\n",
      " https://github.com/SulthanAbiyyu/N-Section_Video_Interpolation Airnology 2022\n",
      " lomba\n",
      " https://github.com/SulthanAbiyyu/AIRNOLOGY---2022 Latent clustering\n",
      " autoencoder buat reduksi dimensi\n",
      " terus di clustering (projek gajelas)\n",
      " https://github.com/SulthanAbiyyu/latent-clustering biyuML\n",
      " implementasi algoritma ML from scratch buat MK PPM (ongoing)\n",
      " https://github.com/SulthanAbiyyu/biyuML dflogger\n",
      " buat nyimpen hasil hyperparameter tuning berbasis dataframe\n",
      " https://github.com/SulthanAbiyyu/dflogger latext\n",
      " convert bahasa manusia jadi latex pake basic prompt engineering\n",
      " https://github.com/SulthanAbiyyu/latext\n"
     ]
    }
   ],
   "source": [
    "for x in li :\n",
    "    print(x)"
   ]
  }
 ],
 "metadata": {
  "kernelspec": {
   "display_name": "Python 3",
   "language": "python",
   "name": "python3"
  },
  "language_info": {
   "codemirror_mode": {
    "name": "ipython",
    "version": 3
   },
   "file_extension": ".py",
   "mimetype": "text/x-python",
   "name": "python",
   "nbconvert_exporter": "python",
   "pygments_lexer": "ipython3",
   "version": "3.10.10"
  },
  "orig_nbformat": 4
 },
 "nbformat": 4,
 "nbformat_minor": 2
}
